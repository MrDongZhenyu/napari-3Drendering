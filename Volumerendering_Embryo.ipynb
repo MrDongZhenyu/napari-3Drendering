{
 "cells": [
  {
   "cell_type": "markdown",
   "metadata": {},
   "source": [
    "## 3D Volume rendering using Napari\n",
    "#### By Zhenyu Dong (zdong@caltech.edu)"
   ]
  },
  {
   "cell_type": "markdown",
   "metadata": {},
   "source": [
    "### Load packages"
   ]
  },
  {
   "cell_type": "code",
   "execution_count": null,
   "metadata": {},
   "outputs": [],
   "source": [
    "# Load packages\n",
    "import napari\n",
    "import h5py\n",
    "import os\n",
    "import numpy as np\n",
    "import napari_bbox\n",
    "from napari_animation import Animation\n",
    "from utils import add_crosssection_layer, Selectcolormap"
   ]
  },
  {
   "cell_type": "markdown",
   "metadata": {},
   "source": [
    "### Load data"
   ]
  },
  {
   "cell_type": "code",
   "execution_count": null,
   "metadata": {},
   "outputs": [],
   "source": [
    "# Load data file\n",
    "save_name = 'Embryo_Eightcell'\n",
    "file_path = 'Data'\n",
    "file_name = 'data_eightcell.h5'\n",
    "hf = h5py.File(os.path.join(file_path,file_name), 'r')\n",
    "pixel_edge_crop = 20\n",
    "vol = np.array(hf['RI_3D'])\n",
    "vol = vol[:,pixel_edge_crop:vol.shape[1]-pixel_edge_crop,pixel_edge_crop:vol.shape[2]-pixel_edge_crop,]\n",
    "\n",
    "if 'nucleus' in hf:\n",
    "    nucleus = np.array(hf['nucleus'])\n",
    "    nucleus = nucleus[:,pixel_edge_crop:nucleus.shape[1]-pixel_edge_crop,pixel_edge_crop:nucleus.shape[2]-pixel_edge_crop,]"
   ]
  },
  {
   "cell_type": "markdown",
   "metadata": {},
   "source": [
    "### Add 3D rendering (MIP)"
   ]
  },
  {
   "cell_type": "code",
   "execution_count": null,
   "metadata": {},
   "outputs": [],
   "source": [
    "# Open napari and add volume rendering\n",
    "viewer = napari.Viewer()\n",
    "viewer.dims.ndisplay = 3\n",
    "\n",
    "# Adjust the scale between x,y,z axis for visualization, this depends on the pixel size of your data\n",
    "upsampling_rate = 2  # In case you upsampled your data\n",
    "vol_scale = [ps/upsampling_rate for ps in [1, 6.5/20, 6.5/20]] #sequence: (z, x, y) axis; unit: microns per pixel\n",
    "\n",
    "# Set your colormap here, it can be a default colormap in napari, or it can be a customized colormap by yourself\n",
    "color_map = 'inferno'    # default colormaps.\n",
    "# color_map = Selectcolormap('jet')  # This customized colormap adds an alpha channel based on the value of the data\n",
    "\n",
    "# Add 3D volume object (an embryo in this example)\n",
    "RI_bg = 1.33\n",
    "viewer.add_image(vol, blending='translucent_no_depth', interpolation3d='nearest', depiction='volume', rendering='mip',\n",
    "                 opacity=1, gamma=1, contrast_limits=[RI_bg,1.338], scale = vol_scale, colormap=color_map)\n",
    "viewer.dims.axis_labels = [\"z\",\"y\",\"x\"]\n",
    "\n",
    "# Add segmentation mask (nucleus segmentation in this example)\n",
    "viewer.add_image(nucleus, blending='translucent_no_depth', interpolation3d='nearest', depiction='volume', rendering='mip',\n",
    "                 opacity=0.18, gamma=1, scale = vol_scale, colormap='gray')"
   ]
  },
  {
   "cell_type": "markdown",
   "metadata": {},
   "source": [
    "### Add bounding box at volume boundary"
   ]
  },
  {
   "cell_type": "code",
   "execution_count": null,
   "metadata": {},
   "outputs": [
    {
     "data": {
      "text/plain": [
       "<BoundingBoxLayer layer 'Bounding Box' at 0x1b980540c10>"
      ]
     },
     "execution_count": 7,
     "metadata": {},
     "output_type": "execute_result"
    }
   ],
   "source": [
    "# Create labels data and bounding box\n",
    "bbox = [0, 0, 0, vol.shape[0]*vol_scale[0]-1, vol.shape[1]*vol_scale[1]-1, vol.shape[2]*vol_scale[2]-1]\n",
    "\n",
    "# Get vertices from bounding box\n",
    "all_vertices = np.array([\n",
    "    [bbox[0], bbox[1], bbox[2]],\n",
    "    [bbox[0], bbox[1], bbox[5]],\n",
    "    [bbox[0], bbox[4], bbox[5]],\n",
    "    [bbox[0], bbox[4], bbox[2]],\n",
    "    [bbox[3], bbox[1], bbox[2]],\n",
    "    [bbox[3], bbox[1], bbox[5]],\n",
    "    [bbox[3], bbox[4], bbox[5]],\n",
    "    [bbox[3], bbox[4], bbox[2]]\n",
    "]).squeeze()\n",
    "\n",
    "# Set width of the box\n",
    "box_width = 0.35\n",
    "\n",
    "# Set box color\n",
    "box_color = \"white\"\n",
    "\n",
    "# Add bounding box\n",
    "bb_layer = napari_bbox.BoundingBoxLayer(ndim=3, edge_color=box_color,edge_width=box_width,name='Bounding Box')\n",
    "bb_layer.add(all_vertices)\n",
    "viewer.add_layer(bb_layer)"
   ]
  },
  {
   "cell_type": "markdown",
   "metadata": {},
   "source": [
    "### Edit axes and scale bar"
   ]
  },
  {
   "cell_type": "code",
   "execution_count": null,
   "metadata": {},
   "outputs": [],
   "source": [
    "# Edit axes\n",
    "viewer.axes.colored = True\n",
    "viewer.axes.labels = True\n",
    "viewer.axes.arrows = True\n",
    "viewer.axes.visible = True\n",
    "\n",
    "# Edit scale bar\n",
    "viewer.scale_bar.visible = True\n",
    "viewer.scale_bar.unit = 'um' \n",
    "viewer.scale_bar.length = 20                # length, in units, of the scale bar; it will calculate automatically if you mentioned 'vol_scale' before\n",
    "viewer.scale_bar.font_size = 14 \n",
    "viewer.scale_bar.colored = True  \n",
    "viewer.scale_bar.color = 'white'            # Scale bar text color\n",
    "viewer.scale_bar.position = 'bottom_right'  # Scale bar position"
   ]
  },
  {
   "cell_type": "markdown",
   "metadata": {},
   "source": [
    "### Adjust viewing angles and zoom factor"
   ]
  },
  {
   "cell_type": "code",
   "execution_count": null,
   "metadata": {},
   "outputs": [],
   "source": [
    "# Use this for static view\n",
    "viewer.camera.angles = (-89.78,-8.72,-96.62)\n",
    "viewer.camera.zoom = 5.8"
   ]
  },
  {
   "cell_type": "markdown",
   "metadata": {},
   "source": [
    "### Plot cross sections (X-Y,X-Z,Y-Z views)"
   ]
  },
  {
   "cell_type": "code",
   "execution_count": null,
   "metadata": {},
   "outputs": [],
   "source": [
    "# This function is defined in 'utils.py', please import it at the beginning\n",
    "# define the box width\n",
    "section_width = 0.2\n",
    "\n",
    "# xy section\n",
    "add_crosssection_layer(viewer,vol,vol_scale,0,106,'#ffaa00',section_width)  # change the colormap inside\n",
    "\n",
    "# xz section\n",
    "add_crosssection_layer(viewer,vol,vol_scale,1,320,'#55ffff',section_width)\n",
    "\n",
    "# yz section\n",
    "add_crosssection_layer(viewer,vol,vol_scale,2,320,'#00aa00',section_width)"
   ]
  },
  {
   "cell_type": "markdown",
   "metadata": {},
   "source": [
    "### Save screenshot"
   ]
  },
  {
   "cell_type": "code",
   "execution_count": null,
   "metadata": {},
   "outputs": [],
   "source": [
    "# Save volume rendering screenshot\n",
    "# napari.utils.nbscreenshot(viewer,canvas_only=True)  # show in jupyter notebook\n",
    "Volume_rendering = viewer.screenshot(path=f'{save_name}_screenshot.png',canvas_only=True,scale=2) # save as screenshot"
   ]
  },
  {
   "cell_type": "markdown",
   "metadata": {},
   "source": [
    "### Generate 3D rendering video"
   ]
  },
  {
   "cell_type": "code",
   "execution_count": null,
   "metadata": {},
   "outputs": [
    {
     "name": "stdout",
     "output_type": "stream",
     "text": [
      "Rendering frames...\n"
     ]
    },
    {
     "name": "stderr",
     "output_type": "stream",
     "text": [
      "  0%|          | 0/346 [00:00<?, ?it/s]IMAGEIO FFMPEG_WRITER WARNING: input image is not divisible by macro_block_size=16, resizing from (801, 597) to (816, 608) to ensure video compatibility with most codecs and players. To prevent resizing, make your input image divisible by the macro_block_size or set the macro_block_size to 1 (risking incompatibility).\n",
      "100%|██████████| 346/346 [00:10<00:00, 34.09it/s]\n"
     ]
    }
   ],
   "source": [
    "# 3D rotation view animation\n",
    "\n",
    "# Initialize viewing point\n",
    "view_angle_init_axis1 = -89.78\n",
    "view_angle_init_axis2 = -8.72\n",
    "view_angle_init_axis3 = -96.62\n",
    "\n",
    "# # Resizes window and tries to get a square canvas:\n",
    "# viewer.window.resize(1000+300, 1000)\n",
    "\n",
    "# Set parameters for the video\n",
    "scale_factor = 1  # scale factor for the final output video size\n",
    "nb_steps = 5  # number of steps between two target angles\n",
    "\n",
    "# Instantiates a napari animation object for our viewer\n",
    "animation = Animation(viewer)\n",
    "\n",
    "# Reset the camera view\n",
    "viewer.reset_view()\n",
    "\n",
    "# Adjust the zooming of the image (Setting zoom <= 3.5 ensures the image remains within the canvas when rotated in three dimensions)\n",
    "viewer.camera.zoom = 3.3\n",
    "\n",
    "step = 5\n",
    "rotate_range = 40\n",
    "\n",
    "arr = np.concatenate([\n",
    "    np.arange(0, -rotate_range-step, -step), \n",
    "    np.arange(-rotate_range, rotate_range+step, step), \n",
    "    np.arange(rotate_range, 0, -step),\n",
    "    np.array([0]),\n",
    "])\n",
    "\n",
    "# Start recording key frames after changing viewer state\n",
    "for angle in arr:\n",
    "    viewer.camera.angles = (view_angle_init_axis1, view_angle_init_axis2+angle, view_angle_init_axis3)\n",
    "    animation.capture_keyframe(steps=nb_steps)\n",
    "\n",
    "for angle in arr:\n",
    "    viewer.camera.angles = (view_angle_init_axis1, view_angle_init_axis2, view_angle_init_axis3-angle)\n",
    "    animation.capture_keyframe(steps=nb_steps)\n",
    "\n",
    "# Render animation as .mp4 video\n",
    "animation.animate(f'{save_name}_demo.mp4', canvas_only=True, fps=30, scale_factor=scale_factor)"
   ]
  },
  {
   "cell_type": "markdown",
   "metadata": {},
   "source": [
    "#### Note: The rendering video can also be generated manually, by clicking at 'Plugins/wizard (napari-animation)' and capture frame by frame"
   ]
  },
  {
   "cell_type": "markdown",
   "metadata": {},
   "source": [
    "### Exit napari"
   ]
  },
  {
   "cell_type": "code",
   "execution_count": null,
   "metadata": {},
   "outputs": [],
   "source": [
    "# Close napari\n",
    "viewer.close()"
   ]
  }
 ],
 "metadata": {
  "kernelspec": {
   "display_name": "napari-env",
   "language": "python",
   "name": "python3"
  },
  "language_info": {
   "codemirror_mode": {
    "name": "ipython",
    "version": 3
   },
   "file_extension": ".py",
   "mimetype": "text/x-python",
   "name": "python",
   "nbconvert_exporter": "python",
   "pygments_lexer": "ipython3",
   "version": "3.10.16"
  }
 },
 "nbformat": 4,
 "nbformat_minor": 2
}
